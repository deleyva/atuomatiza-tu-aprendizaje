{
 "cells": [
  {
   "cell_type": "code",
   "execution_count": null,
   "metadata": {},
   "outputs": [],
   "source": [
    "import csv\n",
    "from bs4 import BeautifulSoup\n",
    "import pprint\n",
    "\n",
    "filename = input('Introduce el nombre del archivo: ')\n",
    "\n",
    "\n",
    "lista_out = []\n",
    "\n",
    "with open(filename,'r') as csvin:\n",
    "    csvin = csv.reader(csvin)\n",
    "    lista_csvin = list(csvin)\n",
    "    for item in lista_csvin[1:]:\n",
    "        soup = BeautifulSoup(item[4], 'html.parser')\n",
    "        lineas = soup.text.splitlines()\n",
    "        for linea in lineas:\n",
    "            is_sticky = False\n",
    "            if linea.startswith('Highlight: ') or lineas.index(linea) == 1:\n",
    "                campos = {}\n",
    "                campos['back'] = campos.get('back', str(linea))\n",
    "                is_sticky = False\n",
    "                campos['title'] = item[0]\n",
    "                campos['url'] = item[1]\n",
    "                campos['tags'] = item[2]\n",
    "                campos['description'] = item[3]\n",
    "            elif linea.startswith('Sticky note: '):\n",
    "                campos['front'] = campos.get('front', str(linea))\n",
    "                is_sticky = True\n",
    "            elif is_sticky:\n",
    "                campos['front'] = campos['front'], '\\n', str(linea)\n",
    "            else:\n",
    "                campos['back'] = campos.get('back', str(linea)), '\\n', str(linea)\n",
    "            lista_out.append(campos)\n",
    "\n",
    "pprint.pprint(lista_out)\n",
    "\n",
    "with open('export.tsv', 'w') as tsvout:\n",
    "    tsvout = csv.writer(tsvout, delimiter='\\t')\n",
    "    for item in lista_out:\n",
    "        row = list(item.values())\n",
    "        tsvout.writerow(row)"
   ]
  }
 ],
 "metadata": {
  "kernelspec": {
   "display_name": "Python 3",
   "language": "python",
   "name": "python3"
  },
  "language_info": {
   "codemirror_mode": {
    "name": "ipython",
    "version": 3
   },
   "file_extension": ".py",
   "mimetype": "text/x-python",
   "name": "python",
   "nbconvert_exporter": "python",
   "pygments_lexer": "ipython3",
   "version": "3.6.3"
  }
 },
 "nbformat": 4,
 "nbformat_minor": 2
}
