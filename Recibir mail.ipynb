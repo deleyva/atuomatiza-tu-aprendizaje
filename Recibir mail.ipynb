{
 "cells": [
  {
   "cell_type": "markdown",
   "metadata": {},
   "source": [
    "# Esto es una prueba para recibir mail"
   ]
  },
  {
   "cell_type": "code",
   "execution_count": 1,
   "metadata": {
    "slideshow": {
     "slide_type": "-"
    }
   },
   "outputs": [
    {
     "name": "stdout",
     "output_type": "stream",
     "text": [
      "········\n"
     ]
    }
   ],
   "source": [
    "import getpass\n",
    "from imapclient import IMAPClient\n",
    "\n",
    "\n",
    "password = getpass.getpass()"
   ]
  },
  {
   "cell_type": "code",
   "execution_count": null,
   "metadata": {},
   "outputs": [],
   "source": [
    "with IMAPClient(host=\"imap.gmail.com\") as client:\n",
    "    client.login('jesuslopezedu@gmail.com', password)\n",
    "    client.select_folder('INBOX')\n",
    "\n",
    "    # search criteria are passed in a straightforward way\n",
    "    # (nesting is supported)\n",
    "    messages = client.search(['NOT', 'DELETED'])\n",
    "\n",
    "    # fetch selectors are passed as a simple list of strings.\n",
    "    response = client.fetch(messages, ['FLAGS', 'RFC822.SIZE'])\n",
    "\n",
    "    # `response` is keyed by message id and contains parsed,\n",
    "    # converted response items.\n",
    "    for message_id, data in response.items():\n",
    "        print('{id}: {size} bytes, flags={flags}, text={text}'.format(\n",
    "            id=message_id,\n",
    "            text=id.\n",
    "            size=data[b'RFC822.SIZE'],\n",
    "            flags=data[b'FLAGS']))"
   ]
  },
  {
   "cell_type": "code",
   "execution_count": null,
   "metadata": {},
   "outputs": [],
   "source": []
  }
 ],
 "metadata": {
  "kernelspec": {
   "display_name": "Python 3",
   "language": "python",
   "name": "python3"
  },
  "language_info": {
   "codemirror_mode": {
    "name": "ipython",
    "version": 3
   },
   "file_extension": ".py",
   "mimetype": "text/x-python",
   "name": "python",
   "nbconvert_exporter": "python",
   "pygments_lexer": "ipython3",
   "version": "3.6.3"
  }
 },
 "nbformat": 4,
 "nbformat_minor": 2
}
